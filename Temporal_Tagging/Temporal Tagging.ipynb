{
 "cells": [
  {
   "cell_type": "markdown",
   "id": "b7cadf55-7956-454d-91f3-88c2705a9e75",
   "metadata": {},
   "source": [
    "### Assigning Temporal Phases to Sportswashing Events\n"
   ]
  },
  {
   "cell_type": "code",
   "execution_count": 19,
   "id": "45ba41a7-382c-4627-b7e6-75d938ff08f4",
   "metadata": {},
   "outputs": [
    {
     "name": "stderr",
     "output_type": "stream",
     "text": [
      "/var/folders/nv/wkg5hpgj1kl1012mfw_qwby80000gn/T/ipykernel_11594/3565299895.py:5: DtypeWarning: Columns (11,13) have mixed types. Specify dtype option on import or set low_memory=False.\n",
      "  df = pd.read_csv('Final_Thesis_Merged.csv')\n"
     ]
    },
    {
     "name": "stdout",
     "output_type": "stream",
     "text": [
      "                 Event                Date Event_Phase\n",
      "0  FIFA World Cup 2022 2024-05-01 17:50:48        Post\n",
      "1     Saudi Pro League 2023-06-13 00:57:32         Pre\n",
      "2  FIFA World Cup 2022 2022-12-28 04:57:05        Post\n",
      "3  FIFA World Cup 2022 2022-10-07 17:58:57         Pre\n",
      "4  FIFA World Cup 2022 2022-09-26 18:43:07         Pre\n"
     ]
    }
   ],
   "source": [
    "import pandas as pd\n",
    "from datetime import datetime\n",
    "\n",
    "# Load dataset\n",
    "df = pd.read_csv('Final_Thesis_Merged.csv')\n",
    "df['Date'] = pd.to_datetime(df['Date'], errors='coerce').dt.tz_localize(None)\n",
    "df['Event'] = df['Event'].str.strip()\n",
    "\n",
    "# Define events with known temporal ranges (excluding Gulf multi-sport and Formula 1)\n",
    "event_dates = {\n",
    "    'FIFA World Cup 2022': {\n",
    "        'start': datetime(2022, 11, 20),\n",
    "        'end': datetime(2022, 12, 18)\n",
    "    },\n",
    "    'LIV Golf': {\n",
    "        'start': datetime(2022, 6, 9),\n",
    "        'end': datetime(2022, 9, 30)\n",
    "    },\n",
    "    'Saudi Pro League': {\n",
    "        'start': datetime(2023, 6, 15),\n",
    "        'end': datetime(2023, 9, 30)\n",
    "    },\n",
    "    'Newcastle United ownership': {\n",
    "        'start': datetime(2021, 10, 7),\n",
    "        'end': datetime(2021, 10, 14)\n",
    "    },\n",
    "    'Manchester City ownership': {\n",
    "        'start': datetime(2008, 9, 1),\n",
    "        'end': datetime(2009, 3, 1)\n",
    "    },\n",
    "    'Paris Saint-Germain ownership': {\n",
    "        'start': datetime(2011, 6, 30),\n",
    "        'end': datetime(2011, 12, 31)\n",
    "    }\n",
    "}\n",
    "\n",
    "# Filter the dataset to only include the above events\n",
    "df = df[df['Event'].isin(event_dates.keys())].copy()\n",
    "\n",
    "# Assign phase\n",
    "def assign_phase(row):\n",
    "    event = row['Event']\n",
    "    date = row['Date']\n",
    "    if pd.isna(date) or event not in event_dates:\n",
    "        return 'Unknown'\n",
    "    \n",
    "    start = event_dates[event]['start']\n",
    "    end = event_dates[event]['end']\n",
    "\n",
    "    if date < start:\n",
    "        return 'Pre'\n",
    "    elif start <= date <= end:\n",
    "        return 'During'\n",
    "    else:\n",
    "        return 'Post'\n",
    "\n",
    "df['Event_Phase'] = df.apply(assign_phase, axis=1)\n",
    "\n",
    "# Save to CSV\n",
    "df.to_csv('Temporal_Events_Only.csv', index=False)\n",
    "\n",
    "# Optional preview\n",
    "print(df[['Event', 'Date', 'Event_Phase']].dropna().head())\n"
   ]
  },
  {
   "cell_type": "markdown",
   "id": "aea996b1-a445-4d7e-8316-cf6a607b46de",
   "metadata": {},
   "source": [
    "### Comment Distribution Across Event Phases (Pre, During, Post)\n"
   ]
  },
  {
   "cell_type": "code",
   "execution_count": 22,
   "id": "3e7fe9c4-3660-422c-9f7b-f18c4a471e7b",
   "metadata": {},
   "outputs": [
    {
     "name": "stdout",
     "output_type": "stream",
     "text": [
      "Event_Phase                    During  Post    Pre\n",
      "Event                                             \n",
      "FIFA World Cup 2022             30626  5958  13180\n",
      "LIV Golf                         1015  2386     30\n",
      "Manchester City ownership           0  4757      0\n",
      "Newcastle United ownership       1006  2328   1292\n",
      "Paris Saint-Germain ownership       0   460      0\n",
      "Saudi Pro League                 1804  2251   1710\n"
     ]
    },
    {
     "name": "stderr",
     "output_type": "stream",
     "text": [
      "/var/folders/nv/wkg5hpgj1kl1012mfw_qwby80000gn/T/ipykernel_11594/2778860831.py:4: DtypeWarning: Columns (11,13) have mixed types. Specify dtype option on import or set low_memory=False.\n",
      "  df_temporal = pd.read_csv(\"Temporal_Events_Only.csv\")\n"
     ]
    }
   ],
   "source": [
    "# Load the cleaned dataset with temporal labels\n",
    "df_temporal = pd.read_csv(\"Temporal_Events_Only.csv\")\n",
    "\n",
    "# Group by Event and Phase, count number of comments\n",
    "event_phase_counts = df_temporal.groupby(['Event', 'Event_Phase']).size().reset_index(name='Comment_Count')\n",
    "\n",
    "# Pivot the table to get a row per event and columns for Pre/During/Post\n",
    "pivot_table = event_phase_counts.pivot(index='Event', columns='Event_Phase', values='Comment_Count') \\\n",
    "                                 .fillna(0).astype(int)\n",
    "\n",
    "print(pivot_table)\n"
   ]
  },
  {
   "cell_type": "code",
   "execution_count": null,
   "id": "0d4e2437-a36b-4f22-a01e-c1e55c597bec",
   "metadata": {},
   "outputs": [],
   "source": []
  }
 ],
 "metadata": {
  "kernelspec": {
   "display_name": "Python [conda env:base] *",
   "language": "python",
   "name": "conda-base-py"
  },
  "language_info": {
   "codemirror_mode": {
    "name": "ipython",
    "version": 3
   },
   "file_extension": ".py",
   "mimetype": "text/x-python",
   "name": "python",
   "nbconvert_exporter": "python",
   "pygments_lexer": "ipython3",
   "version": "3.12.7"
  }
 },
 "nbformat": 4,
 "nbformat_minor": 5
}
