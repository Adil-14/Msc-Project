{
 "cells": [
  {
   "cell_type": "markdown",
   "id": "626019a5-5d5a-4b5b-a494-eedfa6356172",
   "metadata": {},
   "source": [
    "### Aggregating Sentiment by Country from Dataset\n"
   ]
  },
  {
   "cell_type": "code",
   "execution_count": 9,
   "id": "c5717b06-321a-4733-89e0-04cfe69f98a8",
   "metadata": {},
   "outputs": [
    {
     "name": "stdout",
     "output_type": "stream",
     "text": [
      "              Negative  Neutral  Positive\n",
      "Country                                  \n",
      "\"\"                  14        3         0\n",
      "Bahrain             15        8         6\n",
      "Qatar            29315    14163      6476\n",
      "Saudi Arabia      9608     5541      1985\n",
      "UAE               2589     1361       294\n"
     ]
    },
    {
     "name": "stderr",
     "output_type": "stream",
     "text": [
      "/var/folders/nv/wkg5hpgj1kl1012mfw_qwby80000gn/T/ipykernel_7903/3498230780.py:4: DtypeWarning: Columns (11,13) have mixed types. Specify dtype option on import or set low_memory=False.\n",
      "  df = pd.read_csv(\"Final_Thesis_Merged.csv\")\n",
      "/var/folders/nv/wkg5hpgj1kl1012mfw_qwby80000gn/T/ipykernel_7903/3498230780.py:7: FutureWarning: Downcasting behavior in `replace` is deprecated and will be removed in a future version. To retain the old behavior, explicitly call `result.infer_objects(copy=False)`. To opt-in to the future behavior, set `pd.set_option('future.no_silent_downcasting', True)`\n",
      "  df['Sentiment'] = df['Sentiment'].replace({\n"
     ]
    }
   ],
   "source": [
    "import pandas as pd\n",
    "\n",
    "# Load the dataset\n",
    "df = pd.read_csv(\"Final_Thesis_Merged.csv\")\n",
    "\n",
    "# Clean the 'Sentiment' column\n",
    "df['Sentiment'] = df['Sentiment'].replace({\n",
    "    '-1': -1,\n",
    "    '0': 0,\n",
    "    '1': 1,\n",
    "    '1 = positive': 1\n",
    "}).astype(int)\n",
    "\n",
    "# Replace 'Manchester City' in Country column with 'UAE'\n",
    "df['Country'] = df['Country'].replace('Manchester City', 'UAE')\n",
    "\n",
    "# Group by Country and Sentiment\n",
    "sentiment_by_country = df.groupby(['Country', 'Sentiment']).size().unstack(fill_value=0)\n",
    "\n",
    "# Rename columns for clarity\n",
    "sentiment_by_country.columns = ['Negative', 'Neutral', 'Positive']\n",
    "\n",
    "# Display the result\n",
    "print(sentiment_by_country)\n"
   ]
  },
  {
   "cell_type": "markdown",
   "id": "c87a8dc4-28a2-4e04-9131-a4b9f77e3840",
   "metadata": {},
   "source": [
    "### Aggregating Sentiment by Event from Dataset\n"
   ]
  },
  {
   "cell_type": "code",
   "execution_count": 13,
   "id": "01d396cb-eb73-4873-8484-3ea68d34fd3e",
   "metadata": {},
   "outputs": [
    {
     "name": "stdout",
     "output_type": "stream",
     "text": [
      "                               Negative  Neutral  Positive  Total\n",
      "Event                                                            \n",
      "FIFA World Cup 2022               29280    14017      6467  49764\n",
      "Saudi Pro League                   2901     2070       794   5765\n",
      "Manchester City ownership          3133     1348       276   4757\n",
      "Newcastle United ownership         2681     1458       487   4626\n",
      "LIV Golf                           2064     1053       314   3431\n",
      "Gulf multi-sport hosting            251      381        91    723\n",
      "Formula 1                           335      193        59    587\n",
      "Paris Saint-Germain ownership       237      185        38    460\n",
      "- Gulf multi-sport hosting          121       74        94    289\n",
      "\"\"                                   11        1         2     14\n"
     ]
    },
    {
     "name": "stderr",
     "output_type": "stream",
     "text": [
      "/var/folders/nv/wkg5hpgj1kl1012mfw_qwby80000gn/T/ipykernel_7903/2668678389.py:4: DtypeWarning: Columns (11,13) have mixed types. Specify dtype option on import or set low_memory=False.\n",
      "  df = pd.read_csv(\"Final_Thesis_Merged.csv\")\n",
      "/var/folders/nv/wkg5hpgj1kl1012mfw_qwby80000gn/T/ipykernel_7903/2668678389.py:7: FutureWarning: Downcasting behavior in `replace` is deprecated and will be removed in a future version. To retain the old behavior, explicitly call `result.infer_objects(copy=False)`. To opt-in to the future behavior, set `pd.set_option('future.no_silent_downcasting', True)`\n",
      "  df['Sentiment'] = df['Sentiment'].replace({\n"
     ]
    }
   ],
   "source": [
    "# Load the dataset\n",
    "df = pd.read_csv(\"Final_Thesis_Merged.csv\")\n",
    "\n",
    "# Clean the 'Sentiment' column\n",
    "df['Sentiment'] = df['Sentiment'].replace({\n",
    "    '-1': -1,\n",
    "    '0': 0,\n",
    "    '1': 1,\n",
    "    '1 = positive': 1\n",
    "}).astype(int)\n",
    "\n",
    "# Group by Event and Sentiment\n",
    "sentiment_by_event = df.groupby(['Event', 'Sentiment']).size().unstack(fill_value=0)\n",
    "\n",
    "# Rename columns for clarity\n",
    "sentiment_by_event.columns = ['Negative', 'Neutral', 'Positive']\n",
    "\n",
    "# Add a total column for sorting\n",
    "sentiment_by_event['Total'] = sentiment_by_event.sum(axis=1)\n",
    "\n",
    "# Sort by total number of comments per event (descending)\n",
    "sentiment_by_event = sentiment_by_event.sort_values(by='Total', ascending=False)\n",
    "\n",
    "# Drop the 'Total' column if you only want sentiment breakdown\n",
    "# sentiment_by_event = sentiment_by_event.drop(columns='Total')\n",
    "\n",
    "# Display the result\n",
    "print(sentiment_by_event)\n"
   ]
  },
  {
   "cell_type": "code",
   "execution_count": null,
   "id": "5e3e96e3-5e1e-4cd8-a38e-209741985948",
   "metadata": {},
   "outputs": [],
   "source": []
  }
 ],
 "metadata": {
  "kernelspec": {
   "display_name": "Python [conda env:base] *",
   "language": "python",
   "name": "conda-base-py"
  },
  "language_info": {
   "codemirror_mode": {
    "name": "ipython",
    "version": 3
   },
   "file_extension": ".py",
   "mimetype": "text/x-python",
   "name": "python",
   "nbconvert_exporter": "python",
   "pygments_lexer": "ipython3",
   "version": "3.12.7"
  }
 },
 "nbformat": 4,
 "nbformat_minor": 5
}
