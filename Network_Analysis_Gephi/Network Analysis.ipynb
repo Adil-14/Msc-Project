{
 "cells": [
  {
   "cell_type": "markdown",
   "id": "aed9180b-0c34-4754-aeb5-d4e5bba51880",
   "metadata": {},
   "source": [
    "# Sentiment Network Analysis For Gephi"
   ]
  },
  {
   "cell_type": "markdown",
   "id": "9d2ac8bf-da82-481c-9825-a26333f07580",
   "metadata": {},
   "source": [
    "### Importing Libraries"
   ]
  },
  {
   "cell_type": "code",
   "execution_count": null,
   "id": "89283dc0-d4f8-4aa2-b5b9-4691033988dd",
   "metadata": {},
   "outputs": [],
   "source": [
    "import pandas as pd"
   ]
  },
  {
   "cell_type": "markdown",
   "id": "f23391a3-ec6e-4380-9a95-cc25a2071990",
   "metadata": {},
   "source": [
    "## Adding Engagement Column"
   ]
  },
  {
   "cell_type": "code",
   "execution_count": 18,
   "id": "e8e73966-e380-4c47-a9d1-6073800ff729",
   "metadata": {},
   "outputs": [
    {
     "name": "stderr",
     "output_type": "stream",
     "text": [
      "/var/folders/nv/wkg5hpgj1kl1012mfw_qwby80000gn/T/ipykernel_3615/851225449.py:4: DtypeWarning: Columns (11,13) have mixed types. Specify dtype option on import or set low_memory=False.\n",
      "  df = pd.read_csv(\"Final_Thesis_With_Engagement.csv\")\n"
     ]
    }
   ],
   "source": [
    "# Loading CSV file\n",
    "df = pd.read_csv(\"Final_Thesis_Merged.csv\")\n",
    "\n",
    "# Creating the Engagement_Score column\n",
    "# Engagement_Score = Likes + 2 × Replies_Count\n",
    "df['Engagement_Score'] = df['Likes'] + 2 * df['Replies_Count']\n",
    "\n",
    "df.to_csv(\"Final_Thesis_With_Engagement.csv\", index=False)"
   ]
  },
  {
   "cell_type": "markdown",
   "id": "2c0c6ebc-cdaf-4c53-b33a-dc7b2f82bc50",
   "metadata": {},
   "source": [
    "## Creating Edges data for Gephi"
   ]
  },
  {
   "cell_type": "code",
   "execution_count": 20,
   "id": "006166d2-0170-4db6-b933-921fad18f957",
   "metadata": {},
   "outputs": [
    {
     "name": "stderr",
     "output_type": "stream",
     "text": [
      "/var/folders/nv/wkg5hpgj1kl1012mfw_qwby80000gn/T/ipykernel_3615/851225449.py:4: DtypeWarning: Columns (11,13) have mixed types. Specify dtype option on import or set low_memory=False.\n",
      "  df = pd.read_csv(\"Final_Thesis_With_Engagement.csv\")\n"
     ]
    }
   ],
   "source": [
    "# Loading dataset\n",
    "df = pd.read_csv(\"Final_Thesis_With_Engagement.csv\")\n",
    "\n",
    "# Droping any rows with missing IDs\n",
    "df = df.dropna(subset=[\"Comment_ID\", \"Video_ID\"])\n",
    "\n",
    "# Creating edge list: each comment links to the video it belongs to\n",
    "edges = df[[\"Comment_ID\", \"Video_ID\"]].rename(columns={\n",
    "    \"Comment_ID\": \"Source\",\n",
    "    \"Video_ID\": \"Target\"\n",
    "})\n",
    "\n",
    "edges[\"Type\"] = \"Directed\"\n",
    "\n",
    "edges[\"Weight\"] = 1\n",
    "\n",
    "edges.to_csv(\"edges_gephi.csv\", index=False)\n"
   ]
  },
  {
   "cell_type": "markdown",
   "id": "f9d858a2-69fa-44af-932e-ee2880826035",
   "metadata": {},
   "source": [
    "## Creating Nodes data for Gephi"
   ]
  },
  {
   "cell_type": "code",
   "execution_count": 13,
   "id": "5f6f580c-92f5-4674-8a93-fcce2e5940d7",
   "metadata": {},
   "outputs": [
    {
     "name": "stderr",
     "output_type": "stream",
     "text": [
      "/var/folders/nv/wkg5hpgj1kl1012mfw_qwby80000gn/T/ipykernel_23790/842817940.py:2: DtypeWarning: Columns (11,13) have mixed types. Specify dtype option on import or set low_memory=False.\n",
      "  df = pd.read_csv(\"Final_Thesis_With_Engagement.csv\")\n"
     ]
    }
   ],
   "source": [
    "# Loading dataset\n",
    "df = pd.read_csv(\"Final_Thesis_With_Engagement.csv\")\n",
    "\n",
    "# Cleaning up the Sentiment column\n",
    "df['Sentiment'] = df['Sentiment'].astype(str).str.extract(r'(-?1|0)').astype(float)\n",
    "\n",
    "# Creating comment nodes (includes all requested attributes)\n",
    "comment_nodes = df[[\n",
    "    \"Comment_ID\",\n",
    "    \"Sentiment\",\n",
    "    \"Emotion_Class\",\n",
    "    \"Claim_Detection\",\n",
    "    \"Engagement_Score\",\n",
    "    \"Event\",\n",
    "    \"Country\",\n",
    "    \"Agreed_with_Transcript\",\n",
    "    \"Influenced_by_Transcript\",\n",
    "    \"Category\",\n",
    "    \"Factual_or_Opinion\"\n",
    "]].rename(columns={\n",
    "    \"Comment_ID\": \"Id\",\n",
    "    \"Claim_Detection\": \"Claim_Verification\"\n",
    "})\n",
    "\n",
    "comment_nodes[\"Label\"] = comment_nodes[\"Id\"]\n",
    "comment_nodes[\"Type\"] = \"Comment\"\n",
    "\n",
    "# Creating video nodes (unchanged)\n",
    "video_ids = df[\"Video_ID\"].dropna().unique()\n",
    "video_nodes = pd.DataFrame({\n",
    "    \"Id\": video_ids,\n",
    "    \"Label\": video_ids,\n",
    "    \"Type\": \"Video\"\n",
    "})\n",
    "\n",
    "# Combining and exporting\n",
    "all_nodes = pd.concat([comment_nodes, video_nodes], ignore_index=True)\n",
    "all_nodes.to_csv(\"nodes_gephi.csv\", index=False)\n"
   ]
  },
  {
   "cell_type": "markdown",
   "id": "f612e21a-63af-4e12-8e1a-7caeb744830c",
   "metadata": {},
   "source": [
    "# Claim Verification Network Analysis"
   ]
  },
  {
   "cell_type": "markdown",
   "id": "d0309ecb-0a25-482b-adc2-2c995f58b7c3",
   "metadata": {},
   "source": [
    "Adding the replies count and likes to calculate the engagement score"
   ]
  },
  {
   "cell_type": "code",
   "execution_count": 19,
   "id": "05180fa3-378f-46e7-9064-dff7bf5339bb",
   "metadata": {},
   "outputs": [
    {
     "name": "stderr",
     "output_type": "stream",
     "text": [
      "/var/folders/nv/wkg5hpgj1kl1012mfw_qwby80000gn/T/ipykernel_1269/850070226.py:5: DtypeWarning: Columns (11,13) have mixed types. Specify dtype option on import or set low_memory=False.\n",
      "  merged_df = pd.read_csv(\"Final_Thesis_Merged.csv\")\n"
     ]
    }
   ],
   "source": [
    "# Loading the files\n",
    "claims_df = pd.read_csv(\"claims_comments_Results.csv\")\n",
    "merged_df = pd.read_csv(\"Final_Thesis_Merged.csv\")\n",
    "\n",
    "# Dropping rows with missing keys\n",
    "claims_df = claims_df.dropna(subset=[\"Claim_Text\"])\n",
    "merged_df = merged_df.dropna(subset=[\"Rewritten Comment\"])\n",
    "\n",
    "# Merge on Claim_Text , Rewritten Comment\n",
    "merged = claims_df.merge(\n",
    "    merged_df[[\"Rewritten Comment\", \"Likes\", \"Replies_Count\"]],\n",
    "    left_on=\"Claim_Text\",\n",
    "    right_on=\"Rewritten Comment\",\n",
    "    how=\"left\"\n",
    ")\n",
    "\n",
    "# Droping the redundant Rewritten Comment column\n",
    "merged.drop(columns=[\"Rewritten Comment\"], inplace=True)\n",
    "\n",
    "# Filling missing Likes and Replies_Count with 0\n",
    "merged[\"Likes\"] = merged[\"Likes\"].fillna(0)\n",
    "merged[\"Replies_Count\"] = merged[\"Replies_Count\"].fillna(0)\n",
    "\n",
    "# Calculating Engagement Score\n",
    "merged[\"Engagement_Score\"] = merged[\"Likes\"] + 2 * merged[\"Replies_Count\"]\n",
    "\n",
    "merged.to_csv(\"claims_with_engagement.csv\", index=False)\n"
   ]
  },
  {
   "cell_type": "markdown",
   "id": "aace25c4-ed98-433c-b131-fe713d2b3e85",
   "metadata": {},
   "source": [
    "### Generating a Directed Edge List for Claim–Video Network in Gephi\n"
   ]
  },
  {
   "cell_type": "code",
   "execution_count": 39,
   "id": "d0c77eb3-1354-4c3b-beb0-3cb457e00143",
   "metadata": {},
   "outputs": [],
   "source": [
    "# Loading the updated dataset with engagement info\n",
    "df = pd.read_csv(\"claims_with_engagement.csv\")\n",
    "\n",
    "# Drop rows with missing Claim_ID or Video_ID\n",
    "df = df.dropna(subset=[\"Claim_ID\", \"Video_ID\"])\n",
    "\n",
    "# Creating the edge list\n",
    "edges = df[[\"Claim_ID\", \"Video_ID\"]].rename(columns={\n",
    "    \"Claim_ID\": \"Source\",\n",
    "    \"Video_ID\": \"Target\"\n",
    "})\n",
    "\n",
    "# Dropping duplicate edges\n",
    "edges = edges.drop_duplicates(subset=[\"Source\", \"Target\"])\n",
    "\n",
    "# Adding Gephi-specific edge columns\n",
    "edges[\"Type\"] = \"Directed\"\n",
    "edges[\"Weight\"] = 1\n",
    "\n",
    "edges.to_csv(\"edges_gephi_claim_verification.csv\", index=False)\n"
   ]
  },
  {
   "cell_type": "markdown",
   "id": "066339e4-aeb8-495e-bea6-3972c08fec72",
   "metadata": {},
   "source": [
    "### Generate Gephi Nodes for Comments and Videos\n"
   ]
  },
  {
   "cell_type": "code",
   "execution_count": 1,
   "id": "198eebbf-ce94-4f1d-bb81-89a75c6fabd4",
   "metadata": {},
   "outputs": [],
   "source": [
    "# Loading the merged dataset with engagement and claim outcomes\n",
    "df = pd.read_csv(\"claims_with_engagement.csv\")\n",
    "\n",
    "# Createing claim (comment) nodes\n",
    "comment_nodes = df[[\n",
    "    \"Claim_ID\", \"Result\", \"Engagement_Score\"\n",
    "]].rename(columns={\n",
    "    \"Claim_ID\": \"Id\",\n",
    "    \"Result\": \"Claim_Verification\"\n",
    "})\n",
    "\n",
    "comment_nodes[\"Label\"] = comment_nodes[\"Id\"]\n",
    "comment_nodes[\"Type\"] = \"Comment\"\n",
    "\n",
    "# Creating video nodes\n",
    "video_ids = df[\"Video_ID\"].dropna().unique()\n",
    "video_nodes = pd.DataFrame({\n",
    "    \"Id\": video_ids,\n",
    "    \"Label\": video_ids,\n",
    "    \"Type\": \"Video\",\n",
    "    \"Claim_Verification\": \"N/A\",\n",
    "    \"Engagement_Score\": 0\n",
    "})\n",
    "\n",
    "# Combining and exporting\n",
    "all_nodes = pd.concat([comment_nodes, video_nodes], ignore_index=True)\n",
    "all_nodes.to_csv(\"nodes_gephi_claim_verification.csv\", index=False)\n"
   ]
  },
  {
   "cell_type": "code",
   "execution_count": null,
   "id": "71601ffe-f4b8-4ee3-84be-05817a731b60",
   "metadata": {},
   "outputs": [],
   "source": []
  }
 ],
 "metadata": {
  "kernelspec": {
   "display_name": "Python [conda env:base] *",
   "language": "python",
   "name": "conda-base-py"
  },
  "language_info": {
   "codemirror_mode": {
    "name": "ipython",
    "version": 3
   },
   "file_extension": ".py",
   "mimetype": "text/x-python",
   "name": "python",
   "nbconvert_exporter": "python",
   "pygments_lexer": "ipython3",
   "version": "3.12.7"
  }
 },
 "nbformat": 4,
 "nbformat_minor": 5
}
